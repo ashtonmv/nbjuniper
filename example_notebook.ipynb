{
 "cells": [
  {
   "cell_type": "code",
   "execution_count": 1,
   "metadata": {},
   "outputs": [],
   "source": [
    "x = 2"
   ]
  },
  {
   "cell_type": "code",
   "execution_count": 2,
   "metadata": {
    "tags": []
   },
   "outputs": [
    {
     "output_type": "stream",
     "name": "stdout",
     "text": "2\n"
    }
   ],
   "source": [
    "# cells are connected by default!\n",
    "print(x)"
   ]
  },
  {
   "source": [
    "# I'm a markdown cell!\n",
    "I mostly have no problem handling various stylings\n",
    "\n",
    "- like bullets\n",
    "\n",
    "```\n",
    "print(\"or nested code\")\n",
    "```\n",
    "\n",
    "---"
   ],
   "cell_type": "markdown",
   "metadata": {}
  }
 ],
 "metadata": {
  "kernelspec": {
   "display_name": "Python 3.8.2 64-bit ('pyiron': conda)",
   "language": "python",
   "name": "python38264bitpyironcondae58ea6e42076411b924c46bc95510bdd"
  },
  "language_info": {
   "codemirror_mode": {
    "name": "ipython",
    "version": 3
   },
   "file_extension": ".py",
   "mimetype": "text/x-python",
   "name": "python",
   "nbconvert_exporter": "python",
   "pygments_lexer": "ipython3",
   "version": "3.8.3-final"
  }
 },
 "nbformat": 4,
 "nbformat_minor": 4
}